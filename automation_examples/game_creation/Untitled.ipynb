{
 "cells": [
  {
   "cell_type": "code",
   "execution_count": 4,
   "id": "c9186d75-2646-4549-ab4f-7a53a80d3cf0",
   "metadata": {},
   "outputs": [
    {
     "name": "stdout",
     "output_type": "stream",
     "text": [
      "\u001b[30m\u001b[0m\u001b[H\u001b[2J\n",
      "\u001b[30m\u001b[0m\u001b[H\u001b[2J\n",
      "\u001b[32m\u001b[0m██⬜⬜⬜⬜⬜⬜⬜⬜⬜⬜⬜⬜⬜⬜⬜⬜⬜⬜⬜⬜⬜⬜⬜⬜⬜⬜⬜⬜⬜⬜⬜⬜"
     ]
    },
    {
     "name": "stderr",
     "output_type": "stream",
     "text": [
      "sh: 1: mode: not found\n"
     ]
    },
    {
     "ename": "NameError",
     "evalue": "name 'snake' is not defined",
     "output_type": "error",
     "traceback": [
      "\u001b[0;31m---------------------------------------------------------------------------\u001b[0m",
      "\u001b[0;31mNameError\u001b[0m                                 Traceback (most recent call last)",
      "Cell \u001b[0;32mIn[4], line 109\u001b[0m\n\u001b[1;32m    101\u001b[0m     \u001b[38;5;28;01mreturn\u001b[39;00m {\n\u001b[1;32m    102\u001b[0m         \u001b[38;5;124m'\u001b[39m\u001b[38;5;124mleft\u001b[39m\u001b[38;5;124m'\u001b[39m: (\u001b[38;5;124m'\u001b[39m\u001b[38;5;124mx -= 2; direction = \u001b[39m\u001b[38;5;124m\"\u001b[39m\u001b[38;5;124mleft\u001b[39m\u001b[38;5;124m\"\u001b[39m\u001b[38;5;124m'\u001b[39m, \u001b[38;5;124m'\u001b[39m\u001b[38;5;124mleft\u001b[39m\u001b[38;5;124m'\u001b[39m),\n\u001b[1;32m    103\u001b[0m         \u001b[38;5;124m'\u001b[39m\u001b[38;5;124mright\u001b[39m\u001b[38;5;124m'\u001b[39m: (\u001b[38;5;124m'\u001b[39m\u001b[38;5;124mx += 2; direction = \u001b[39m\u001b[38;5;124m\"\u001b[39m\u001b[38;5;124mright\u001b[39m\u001b[38;5;124m\"\u001b[39m\u001b[38;5;124m'\u001b[39m, \u001b[38;5;124m'\u001b[39m\u001b[38;5;124mright\u001b[39m\u001b[38;5;124m'\u001b[39m),\n\u001b[1;32m    104\u001b[0m         \u001b[38;5;124m'\u001b[39m\u001b[38;5;124mup\u001b[39m\u001b[38;5;124m'\u001b[39m: (\u001b[38;5;124m'\u001b[39m\u001b[38;5;124my -= 2; direction = \u001b[39m\u001b[38;5;124m\"\u001b[39m\u001b[38;5;124mup\u001b[39m\u001b[38;5;124m\"\u001b[39m\u001b[38;5;124m'\u001b[39m, \u001b[38;5;124m'\u001b[39m\u001b[38;5;124mup\u001b[39m\u001b[38;5;124m'\u001b[39m),\n\u001b[1;32m    105\u001b[0m         \u001b[38;5;124m'\u001b[39m\u001b[38;5;124mdown\u001b[39m\u001b[38;5;124m'\u001b[39m: (\u001b[38;5;124m'\u001b[39m\u001b[38;5;124my += 2; direction = \u001b[39m\u001b[38;5;124m\"\u001b[39m\u001b[38;5;124mdown\u001b[39m\u001b[38;5;124m\"\u001b[39m\u001b[38;5;124m'\u001b[39m, \u001b[38;5;124m'\u001b[39m\u001b[38;5;124mdown\u001b[39m\u001b[38;5;124m'\u001b[39m)}[key]\n\u001b[1;32m    107\u001b[0m     exec(get_input()[\u001b[38;5;124m'\u001b[39m\u001b[38;5;124mcode\u001b[39m\u001b[38;5;124m'\u001b[39m])\n\u001b[0;32m--> 109\u001b[0m \u001b[43mgame\u001b[49m\u001b[43m(\u001b[49m\u001b[43m)\u001b[49m\n",
      "Cell \u001b[0;32mIn[4], line 87\u001b[0m, in \u001b[0;36mgame\u001b[0;34m()\u001b[0m\n\u001b[1;32m     85\u001b[0m \u001b[38;5;28;01mdef\u001b[39;00m \u001b[38;5;21mgame\u001b[39m():\n\u001b[1;32m     86\u001b[0m     clear()\n\u001b[0;32m---> 87\u001b[0m     \u001b[43mdraw_food\u001b[49m\u001b[43m(\u001b[49m\u001b[43m)\u001b[49m\n\u001b[1;32m     88\u001b[0m     \u001b[38;5;28;01mwhile\u001b[39;00m \u001b[38;5;129;01mnot\u001b[39;00m isCollision():\n\u001b[1;32m     89\u001b[0m         move_snake()\n",
      "Cell \u001b[0;32mIn[4], line 37\u001b[0m, in \u001b[0;36mdraw_food\u001b[0;34m()\u001b[0m\n\u001b[1;32m     35\u001b[0m \u001b[38;5;28mprint\u001b[39m(Color\u001b[38;5;241m.\u001b[39mGREEN \u001b[38;5;241m+\u001b[39m \u001b[38;5;124mf\u001b[39m\u001b[38;5;124m'\u001b[39m\u001b[38;5;124m██\u001b[39m\u001b[38;5;132;01m{\u001b[39;00m\u001b[38;5;124m\"\u001b[39m\u001b[38;5;124m⬜\u001b[39m\u001b[38;5;124m\"\u001b[39m\u001b[38;5;250m \u001b[39m\u001b[38;5;241m*\u001b[39m\u001b[38;5;250m \u001b[39mwidth\u001b[38;5;132;01m}\u001b[39;00m\u001b[38;5;124m'\u001b[39m, end\u001b[38;5;241m=\u001b[39m\u001b[38;5;124m'\u001b[39m\u001b[38;5;124m'\u001b[39m)\n\u001b[1;32m     36\u001b[0m \u001b[38;5;28;01mfor\u001b[39;00m x \u001b[38;5;129;01min\u001b[39;00m \u001b[38;5;28mrange\u001b[39m(food_x):\n\u001b[0;32m---> 37\u001b[0m     \u001b[38;5;28;01mif\u001b[39;00m food_x \u001b[38;5;241m-\u001b[39m x \u001b[38;5;241m==\u001b[39m \u001b[43msnake\u001b[49m[\u001b[38;5;241m0\u001b[39m][\u001b[38;5;241m0\u001b[39m] \u001b[38;5;129;01mor\u001b[39;00m food_y \u001b[38;5;241m-\u001b[39m y \u001b[38;5;241m==\u001b[39m x:\n\u001b[1;32m     38\u001b[0m         \u001b[38;5;28mprint\u001b[39m(\u001b[38;5;124m'\u001b[39m\u001b[38;5;124m×\u001b[39m\u001b[38;5;124m'\u001b[39m, end\u001b[38;5;241m=\u001b[39m\u001b[38;5;124m'\u001b[39m\u001b[38;5;124m'\u001b[39m)\n\u001b[1;32m     39\u001b[0m     \u001b[38;5;28;01melse\u001b[39;00m:\n",
      "\u001b[0;31mNameError\u001b[0m: name 'snake' is not defined"
     ]
    }
   ],
   "source": [
    "import random\n",
    "import time\n",
    "import os\n",
    "import sys\n",
    "from colorama import Fore, Back, Style\n",
    "\n",
    "# Set up the screen\n",
    "os.system('mode con: cols=80 lines=25')\n",
    "sys.setrecursionlimit(1000)\n",
    "\n",
    "# Initialize the game variables\n",
    "width = 32\n",
    "height = 20\n",
    "snake_length = 1\n",
    "score = 0\n",
    "x = width // 2\n",
    "y = height // 2\n",
    "food_x = random.randint(0, width - 1)\n",
    "food_y = random.randint(0, height - 1)\n",
    "direction = 'right'\n",
    "\n",
    "# Set up the colors\n",
    "class Color:\n",
    "    BLACK = Fore.BLACK + Style.RESET_ALL\n",
    "    RED = Fore.RED + Style.RESET_ALL\n",
    "    GREEN = Fore.GREEN + Style.RESET_ALL\n",
    "    YELLOW = Fore.YELLOW + Style.RESET_ALL\n",
    "\n",
    "# Function to set the background color\n",
    "def clear():\n",
    "    print(Color.BLACK + '\\033[H\\033[2J')\n",
    "# Function to set the food color and print it\n",
    "def draw_food():\n",
    "    clear()\n",
    "    print(Color.GREEN + f'██{\"⬜\" * width}', end='')\n",
    "    for x in range(food_x):\n",
    "        if food_x - x == snake[0][0] or food_y - y == x:\n",
    "            print('×', end='')\n",
    "        else:\n",
    "            if x % 2 == 0 and (x + food_x) % 2 == 0:\n",
    "                print('█', end='')\n",
    "            else:\n",
    "                print('⬜', end='')\n",
    "    for y in range(height):\n",
    "        if y == height - 1 or y == food_y:\n",
    "            print(Color.GREEN + '██', end='')\n",
    "        elif y == 0:\n",
    "            print(Color.BLACK + '██', end='')\n",
    "        else:\n",
    "            print('⬜', end='')\n",
    "    print(Score())\n",
    "    time.sleep(0.1)\n",
    "    os.system('cls')\n",
    "    game()\n",
    "# Function to print the snake's head and body\n",
    "def draw_snake():\n",
    "    for i in range(len(snake)):\n",
    "        if i == 0:\n",
    "            print(Color.YELLOW + '██', end='')\n",
    "        else:\n",
    "            print('█▄ ', end='')\n",
    "\n",
    "# Function to set the food and check if the snake eats it\n",
    "def eat_food():\n",
    "    global score, food_x, food_y\n",
    "    if x == food_x and y == food_y:\n",
    "        food()\n",
    "        score += 10\n",
    "\n",
    "# Function to create a new food when the snake eats it\n",
    "def food():\n",
    "    global food_x, food_y\n",
    "    food_x = random.randint(0, width - 1)\n",
    "    food_y = random.randint(0, height - 1)\n",
    "\n",
    "# Function to set and check for collision with boundary or snake's body\n",
    "def isCollision():\n",
    "    return (x < 0 or x >= width or y < 0 or y >= height) or any(abs(prev_head[i] - x) + abs(prev_head[j] - y) == 2 for i, j in enumerate(range(len(snake))))\n",
    "\n",
    "# Function to print the score\n",
    "def Score():\n",
    "    return Color.RED + Fore.BOLD + f'Score: {score}'\n",
    "\n",
    "# Main game loop\n",
    "def game():\n",
    "    clear()\n",
    "    draw_food()\n",
    "    while not isCollision():\n",
    "        move_snake()\n",
    "        direction = get_input()\n",
    "\n",
    "# Function to handle input from the user\n",
    "def get_input():\n",
    "    key = ''\n",
    "    while key not in ['left', 'right', 'up', 'down']:\n",
    "        try:\n",
    "            key = input().lower().strip()\n",
    "        except KeyboardInterrupt:\n",
    "            quit()\n",
    "\n",
    "    return {\n",
    "        'left': ('x -= 2; direction = \"left\"', 'left'),\n",
    "        'right': ('x += 2; direction = \"right\"', 'right'),\n",
    "        'up': ('y -= 2; direction = \"up\"', 'up'),\n",
    "        'down': ('y += 2; direction = \"down\"', 'down')}[key]\n",
    "    \n",
    "    exec(get_input()['code'])\n",
    "    \n",
    "game()"
   ]
  },
  {
   "cell_type": "code",
   "execution_count": 2,
   "id": "4e756dae-da9d-48dc-a97c-5aeefc12fe37",
   "metadata": {},
   "outputs": [
    {
     "name": "stdout",
     "output_type": "stream",
     "text": [
      "Collecting colorama\n",
      "  Downloading colorama-0.4.6-py2.py3-none-any.whl (25 kB)\n",
      "Installing collected packages: colorama\n",
      "Successfully installed colorama-0.4.6\n"
     ]
    }
   ],
   "source": [
    "!pip install colorama"
   ]
  },
  {
   "cell_type": "code",
   "execution_count": null,
   "id": "6f7dbaa4-fd5c-48d6-83a5-aad6caa9b0d5",
   "metadata": {},
   "outputs": [],
   "source": []
  }
 ],
 "metadata": {
  "kernelspec": {
   "display_name": "Python 3 (ipykernel)",
   "language": "python",
   "name": "python3"
  },
  "language_info": {
   "codemirror_mode": {
    "name": "ipython",
    "version": 3
   },
   "file_extension": ".py",
   "mimetype": "text/x-python",
   "name": "python",
   "nbconvert_exporter": "python",
   "pygments_lexer": "ipython3",
   "version": "3.10.12"
  }
 },
 "nbformat": 4,
 "nbformat_minor": 5
}
