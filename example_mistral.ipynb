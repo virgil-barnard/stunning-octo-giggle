{
 "cells": [
  {
   "cell_type": "markdown",
   "id": "d80800b4-3ef0-4cd3-b35a-fcf16a09b9b3",
   "metadata": {},
   "source": [
    "## Have to install ollama by running this in Ubuntu:\n",
    "curl -fsSL https://ollama.com/install.sh | sh"
   ]
  },
  {
   "cell_type": "markdown",
   "id": "cb0dd23d-969b-4ca7-930a-2b3690d977eb",
   "metadata": {},
   "source": [
    "## Or downloading it from here for windows: \n",
    "https://ollama.com/download/windows"
   ]
  },
  {
   "cell_type": "markdown",
   "id": "3d93a12c-0a66-4913-94be-654fe906192c",
   "metadata": {},
   "source": [
    "# Grabbing examples from here: https://github.com/ollama/ollama-python/tree/main/examples"
   ]
  },
  {
   "cell_type": "code",
   "execution_count": 3,
   "id": "dd3f7f7d-d361-4166-b30b-92daf5a7f023",
   "metadata": {},
   "outputs": [
    {
     "name": "stdout",
     "output_type": "stream",
     "text": [
      "pulling manifest\n"
     ]
    },
    {
     "name": "stderr",
     "output_type": "stream",
     "text": [
      "pulling e8a35b5937a5: 100%|████████████████| 4.11G/4.11G [00:52<00:00, 77.9MB/s]\n",
      "pulling 43070e2d4e53: 100%|████████████████| 11.4k/11.4k [00:01<00:00, 6.55kB/s]\n",
      "pulling e6836092461f: 100%|███████████████████| 42.0/42.0 [00:01<00:00, 24.2B/s]\n",
      "pulling ed11eda7790d: 100%|███████████████████| 30.0/30.0 [00:01<00:00, 17.5B/s]\n",
      "pulling f9b1e3196ecf: 100%|██████████████████████| 483/483 [00:00<00:00, 503B/s]\n"
     ]
    },
    {
     "name": "stdout",
     "output_type": "stream",
     "text": [
      "verifying sha256 digest\n",
      "writing manifest\n",
      "removing any unused layers\n",
      "success\n"
     ]
    }
   ],
   "source": [
    "from tqdm import tqdm\n",
    "from ollama import pull\n",
    "\n",
    "\n",
    "current_digest, bars = '', {}\n",
    "for progress in pull('mistral', stream=True):\n",
    "  digest = progress.get('digest', '')\n",
    "  if digest != current_digest and current_digest in bars:\n",
    "    bars[current_digest].close()\n",
    "\n",
    "  if not digest:\n",
    "    print(progress.get('status'))\n",
    "    continue\n",
    "\n",
    "  if digest not in bars and (total := progress.get('total')):\n",
    "    bars[digest] = tqdm(total=total, desc=f'pulling {digest[7:19]}', unit='B', unit_scale=True)\n",
    "\n",
    "  if completed := progress.get('completed'):\n",
    "    bars[digest].update(completed - bars[digest].n)\n",
    "\n",
    "  current_digest = digest"
   ]
  },
  {
   "cell_type": "code",
   "execution_count": 4,
   "id": "4d3fe8d8-e1c0-4d37-a33b-95c68e79174e",
   "metadata": {},
   "outputs": [
    {
     "name": "stdout",
     "output_type": "stream",
     "text": [
      " The color of the sky appears blue due to a process called Rayleigh scattering. As sunlight reaches Earth's atmosphere, it interacts with molecules and tiny particles in the air, causing the scattering of light in various directions. Blue light is scattered more effectively than other colors because it has shorter wavelengths. Consequently, when we look up at the sky, we primarily see the blue light that has been scattered, making the sky appear blue to our eyes.\n"
     ]
    }
   ],
   "source": [
    "import ollama\n",
    "response = ollama.chat(model='mistral', messages=[\n",
    "  {\n",
    "    'role': 'user',\n",
    "    'content': 'Why is the sky blue?',\n",
    "  },\n",
    "])\n",
    "print(response['message']['content'])"
   ]
  },
  {
   "cell_type": "code",
   "execution_count": 5,
   "id": "4aa462e1-cc86-4092-a179-aa508b307a4e",
   "metadata": {},
   "outputs": [
    {
     "name": "stdout",
     "output_type": "stream",
     "text": [
      " The color of the sky appears blue due to a process called Rayleigh scattering. As sunlight reaches Earth's atmosphere, it interacts with molecules and particles in the air, such as nitrogen and oxygen. These particles scatter short-wavelength light, like blue and violet, more than other colors because they are smaller than the wavelength of light. However, humans are more sensitive to seeing blue light and less sensitive to violet light, so the sky appears blue rather than violet. Additionally, sunlight reaches us more from the blue part of the spectrum due to its intensity distribution."
     ]
    }
   ],
   "source": [
    "from ollama import generate\n",
    "\n",
    "\n",
    "for part in generate('mistral', 'Why is the sky blue?', stream=True):\n",
    "  print(part['response'], end='', flush=True)"
   ]
  },
  {
   "cell_type": "code",
   "execution_count": 11,
   "id": "b4e0a772-0459-4012-86ef-2cc4587a16e7",
   "metadata": {},
   "outputs": [
    {
     "name": "stdout",
     "output_type": "stream",
     "text": [
      "Yes, I do! You introduced yourself as Ty when we started this conversation. How can I help you today?\n",
      "\n",
      "I'm here to answer any question or provide information on a wide range of topics, from general knowledge to specific inquiries. Let me know how I can assist you.\n"
     ]
    }
   ],
   "source": [
    "messages = [\n",
    "  {\n",
    "    'role': 'user',\n",
    "    'content': 'My name is Ty, nice to meet you.',\n",
    "  },\n",
    "  {\n",
    "    'role': 'assistant',\n",
    "    'content': \"Hi Ty! It's nice to meet you too!\"\n",
    "  },\n",
    "  {\n",
    "    'role': 'user',\n",
    "    'content': 'Do you remember my name?',\n",
    "  }  \n",
    "]\n",
    "\n",
    "for part in chat('mistral', messages=messages, stream=True):\n",
    "  print(part['message']['content'], end='', flush=True)\n",
    "\n",
    "# end with a newline\n",
    "print()"
   ]
  }
 ],
 "metadata": {
  "kernelspec": {
   "display_name": "Python 3 (ipykernel)",
   "language": "python",
   "name": "python3"
  },
  "language_info": {
   "codemirror_mode": {
    "name": "ipython",
    "version": 3
   },
   "file_extension": ".py",
   "mimetype": "text/x-python",
   "name": "python",
   "nbconvert_exporter": "python",
   "pygments_lexer": "ipython3",
   "version": "3.10.12"
  }
 },
 "nbformat": 4,
 "nbformat_minor": 5
}
