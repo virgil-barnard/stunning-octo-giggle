{
 "cells": [
  {
   "cell_type": "code",
   "execution_count": null,
   "id": "85bfa8ce-3070-4a25-abcc-395dc0fe6de8",
   "metadata": {},
   "outputs": [],
   "source": [
    "import socket\n",
    "\n",
    "# Get the hostname of the local computer\n",
    "hostname = socket.gethostname()\n",
    "\n",
    "# Get the IP address of the local computer\n",
    "ip_address = socket.gethostbyname(hostname)\n",
    "\n",
    "# Print the hostname and IP address\n",
    "print(\"Hostname:\", hostname)\n",
    "print(\"IP Address:\", ip_address)\n"
   ]
  },
  {
   "cell_type": "code",
   "execution_count": null,
   "id": "6676c0e6-b421-4f78-9c50-9e572d650c7b",
   "metadata": {},
   "outputs": [],
   "source": [
    "# !pip install paramiko\n",
    "import paramiko\n",
    "\n",
    "class SSHServer:\n",
    "    def __init__(self, host, username, password):\n",
    "        self.host = host\n",
    "        self.username = username\n",
    "        self.password = password\n",
    "\n",
    "    def start(self):\n",
    "        self.server = paramiko.Transport((self.host, 22))\n",
    "        self.server.add_server_key(paramiko.RSAKey.generate(2048))\n",
    "        self.server.start_server(server=self)\n",
    "\n",
    "    def check_auth_password(self, username, password):\n",
    "        if (username == self.username) and (password == self.password):\n",
    "            return paramiko.AUTH_SUCCESSFUL\n",
    "        else:\n",
    "            return paramiko.AUTH_FAILED\n",
    "\n",
    "    def check_channel_request(self, kind, chanid):\n",
    "        if kind == \"session\":\n",
    "            return paramiko.OPEN_SUCCEEDED\n",
    "        else:\n",
    "            return paramiko.OPEN_FAILED_ADMINISTRATIVELY_PROHIBITED\n",
    "\n",
    "    def start_session(self, channel):\n",
    "        channel.send(\"Welcome to the server!\\n\")\n",
    "        while True:\n",
    "            command = channel.recv(1024).decode().strip()\n",
    "            if command == \"exit\":\n",
    "                channel.send(\"Goodbye!\\n\")\n",
    "                break\n",
    "            else:\n",
    "                output = self.execute_command(command)\n",
    "                channel.send(output)\n",
    "\n",
    "    def execute_command(self, command):\n",
    "        # execute the command on the server and return the output\n",
    "        # this method should be implemented by the subclass\n",
    "        return \"\"\n",
    "\n",
    "class SSHClient:\n",
    "    def __init__(self, host, username, password):\n",
    "        self.host = host\n",
    "        self.username = username\n",
    "        self.password = password\n",
    "\n",
    "    def connect(self):\n",
    "        self.client = paramiko.SSHClient()\n",
    "        self.client.set_missing_host_key_policy(paramiko.AutoAddPolicy())\n",
    "        self.client.connect(self.host, username=self.username, password=self.password)\n",
    "\n",
    "    def execute_command(self, command):\n",
    "        stdin, stdout, stderr = self.client.exec_command(command)\n",
    "        output = stdout.read().decode()\n",
    "        return output\n",
    "\n",
    "    def send_command(self, command):\n",
    "        channel = self.client.invoke_shell()\n",
    "        channel.send(command + \"\\n\")\n",
    "        output = \"\"\n",
    "        while not channel.recv_ready():\n",
    "            pass\n",
    "        while channel.recv_ready():\n",
    "            output += channel.recv(1024).decode()\n",
    "        return output\n",
    "\n",
    "    def close(self):\n",
    "        self.client.close()\n"
   ]
  },
  {
   "cell_type": "code",
   "execution_count": null,
   "id": "2ee1adce-6db5-4eff-ba0c-5abdc4d66d74",
   "metadata": {},
   "outputs": [],
   "source": [
    "# Create an instance of the server and start it\n",
    "server = SSHServer(ip_address, hostname, 'password')\n",
    "server.start()"
   ]
  },
  {
   "cell_type": "code",
   "execution_count": null,
   "id": "2f71e056-546d-4834-a12b-8209cf849d08",
   "metadata": {},
   "outputs": [],
   "source": [
    "# Create an instance of the client and connect to the server\n",
    "client = SSHClient(ip_address, hostname, \"password\")\n",
    "client.connect()\n",
    "\n",
    "# Execute a command on the server and print the output\n",
    "output = client.execute_command(\"ls -l\")\n",
    "print(output)\n",
    "\n",
    "# Send a command to the server and print the output\n",
    "output = client.send_command(\"echo 'hello, world!'\")\n",
    "print(output)\n",
    "\n",
    "# Close the SSH connection\n",
    "client.close()\n"
   ]
  },
  {
   "cell_type": "code",
   "execution_count": null,
   "id": "78ae1947-ce4f-41e0-bc08-35cdfeecb5c0",
   "metadata": {},
   "outputs": [],
   "source": [
    "import subprocess\n",
    "\n",
    "# Replace \"example.com\" with the IP address or hostname of your remote host.\n",
    "host = \"192.168.42.18\"\n",
    "username = \"pi\"\n",
    "password = \"Blkioq#7\"\n",
    "command = \"ls -l\"\n",
    "\n",
    "# Connect to the remote host using SSH.\n",
    "ssh = subprocess.Popen([\"ssh\", f\"{username}@{host}\", command],\n",
    "                       stdin=subprocess.PIPE,\n",
    "                       stdout=subprocess.PIPE,\n",
    "                       stderr=subprocess.PIPE,\n",
    "                       universal_newlines=True,\n",
    "                       bufsize=0)\n",
    "\n",
    "# Enter the password if prompted.\n",
    "if ssh.stderr:\n",
    "    password_prompt = ssh.stderr.read()\n",
    "    print(password_prompt)\n",
    "    if \"password\" in password_prompt.lower():\n",
    "        ssh.stdin.write(password + \"\\n\")\n",
    "        ssh.stdin.flush()\n",
    "\n",
    "# Print the output of the command.\n",
    "for line in ssh.stdout:\n",
    "    print(line.strip())\n"
   ]
  },
  {
   "cell_type": "code",
   "execution_count": null,
   "id": "605ee23b-4bde-46b4-b91d-deb223d3680a",
   "metadata": {},
   "outputs": [],
   "source": [
    "import subprocess\n",
    "\n",
    "class SSHClient:\n",
    "    def __init__(self, host, username, password):\n",
    "        self.host = host\n",
    "        self.username = username\n",
    "        self.password = password\n",
    "\n",
    "    def connect(self):\n",
    "        self.process = subprocess.Popen(\n",
    "            [\n",
    "                \"ssh\",\n",
    "                \"-o\", \"ServerAliveInterval=60\",\n",
    "                f\"{self.username}@{self.host}\",\n",
    "            ],\n",
    "            stdin=subprocess.PIPE,\n",
    "            stdout=subprocess.PIPE,\n",
    "            stderr=subprocess.PIPE,\n",
    "        )\n",
    "        self.process.stdin.write(f\"{self.password}\\n\".encode())\n",
    "        self.process.stdin.flush()\n",
    "\n",
    "    def execute(self, command):\n",
    "        self.process.stdin.write(f\"{command}\".encode())\n",
    "        self.process.stdin.flush()\n",
    "        output = self.process.stdout.read().decode()\n",
    "        return output\n",
    "\n",
    "    def disconnect(self):\n",
    "        self.process.stdin.close()\n",
    "        self.process.stdout.close()\n",
    "        self.process.stderr.close()\n",
    "        self.process.terminate()\n"
   ]
  },
  {
   "cell_type": "code",
   "execution_count": null,
   "id": "9120023c-0682-4219-8ff1-be70148a8827",
   "metadata": {},
   "outputs": [],
   "source": [
    "# !ulimit -n 2048\n",
    "\n",
    "client = SSHClient('192.168.42.18', 'pi', 'pi')"
   ]
  },
  {
   "cell_type": "code",
   "execution_count": null,
   "id": "5e92dd4c-1b5e-4253-9234-9b5aebd7e699",
   "metadata": {},
   "outputs": [],
   "source": [
    "client.connect()"
   ]
  },
  {
   "cell_type": "code",
   "execution_count": null,
   "id": "721238d7-177d-4738-b231-8c415240b7cd",
   "metadata": {},
   "outputs": [],
   "source": [
    "client.execute('ls -l')"
   ]
  },
  {
   "cell_type": "code",
   "execution_count": null,
   "id": "e98f95f5-5188-40f5-b647-9efaa1d43790",
   "metadata": {},
   "outputs": [],
   "source": [
    "client.disconnect()"
   ]
  },
  {
   "cell_type": "code",
   "execution_count": null,
   "id": "ffaaaf15-ceca-4ceb-9a6d-cc48c6641820",
   "metadata": {},
   "outputs": [],
   "source": [
    "client.process.stdout.read().decode()"
   ]
  },
  {
   "cell_type": "code",
   "execution_count": null,
   "id": "72ccb147-c129-4875-8ddd-f67dc213fe60",
   "metadata": {},
   "outputs": [],
   "source": [
    "import os\n",
    "os.system('ssh pi@192.168.42.18')"
   ]
  },
  {
   "cell_type": "code",
   "execution_count": null,
   "id": "ab3a4914-4624-4f1f-b39e-8e9385bfb78f",
   "metadata": {},
   "outputs": [],
   "source": []
  }
 ],
 "metadata": {
  "kernelspec": {
   "display_name": "Python 3 (ipykernel)",
   "language": "python",
   "name": "python3"
  },
  "language_info": {
   "codemirror_mode": {
    "name": "ipython",
    "version": 3
   },
   "file_extension": ".py",
   "mimetype": "text/x-python",
   "name": "python",
   "nbconvert_exporter": "python",
   "pygments_lexer": "ipython3",
   "version": "3.8.15"
  }
 },
 "nbformat": 4,
 "nbformat_minor": 5
}
