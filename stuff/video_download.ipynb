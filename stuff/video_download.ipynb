{
 "cells": [
  {
   "cell_type": "code",
   "execution_count": 1,
   "id": "e586a58c-6165-452a-ab5a-1f9b9d6576c8",
   "metadata": {},
   "outputs": [],
   "source": [
    "#!pip install youtube_dl\n",
    "import youtube_dl\n",
    "def download_video(video_link, output_path=None):\n",
    "    ydl_opts = {'outtmpl': output_path +'%(title)s.%(ext)s'}\n",
    "    with youtube_dl.YoutubeDL(ydl_opts) as ydl:\n",
    "        ydl.download([video_link])"
   ]
  },
  {
   "cell_type": "code",
   "execution_count": 3,
   "id": "eb51d4f9-5899-46c2-9905-445e47fe2612",
   "metadata": {},
   "outputs": [],
   "source": [
    "for i in range(20):\n",
    "    video = input('link')\n",
    "    download_video(video, output_path='/home/ty/Videos/')"
   ]
  },
  {
   "cell_type": "code",
   "execution_count": null,
   "id": "eee70bd2-cd72-45de-aed7-9a8cc6da7eb5",
   "metadata": {},
   "outputs": [],
   "source": []
  }
 ],
 "metadata": {
  "kernelspec": {
   "display_name": "Python 3 (ipykernel)",
   "language": "python",
   "name": "python3"
  },
  "language_info": {
   "codemirror_mode": {
    "name": "ipython",
    "version": 3
   },
   "file_extension": ".py",
   "mimetype": "text/x-python",
   "name": "python",
   "nbconvert_exporter": "python",
   "pygments_lexer": "ipython3",
   "version": "3.8.17"
  }
 },
 "nbformat": 4,
 "nbformat_minor": 5
}
