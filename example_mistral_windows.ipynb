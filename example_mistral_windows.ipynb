{
 "cells": [
  {
   "cell_type": "markdown",
   "id": "d80800b4-3ef0-4cd3-b35a-fcf16a09b9b3",
   "metadata": {},
   "source": [
    "## Have to install ollama by running this in Ubuntu:\n",
    "curl -fsSL https://ollama.com/install.sh | sh"
   ]
  },
  {
   "cell_type": "markdown",
   "id": "cb0dd23d-969b-4ca7-930a-2b3690d977eb",
   "metadata": {},
   "source": [
    "## Or downloading it from here for windows: \n",
    "https://ollama.com/download/windows"
   ]
  },
  {
   "cell_type": "markdown",
   "id": "3d93a12c-0a66-4913-94be-654fe906192c",
   "metadata": {},
   "source": [
    "# Grabbing examples from here: https://github.com/ollama/ollama-python/tree/main/examples"
   ]
  },
  {
   "cell_type": "code",
   "execution_count": 1,
   "id": "dd3f7f7d-d361-4166-b30b-92daf5a7f023",
   "metadata": {},
   "outputs": [
    {
     "name": "stdout",
     "output_type": "stream",
     "text": [
      "pulling manifest\n"
     ]
    },
    {
     "name": "stderr",
     "output_type": "stream",
     "text": [
      "pulling e8a35b5937a5: 100%|██████████| 4.11G/4.11G [05:23<00:00, 12.7MB/s]    \n",
      "pulling 43070e2d4e53: 100%|██████████| 11.4k/11.4k [00:01<00:00, 6.26kB/s]\n",
      "pulling e6836092461f: 100%|██████████| 42.0/42.0 [00:01<00:00, 22.6B/s]\n",
      "pulling ed11eda7790d: 100%|██████████| 30.0/30.0 [00:01<00:00, 15.4B/s]\n",
      "pulling f9b1e3196ecf: 100%|██████████| 483/483 [00:00<00:00, 504B/s]\n"
     ]
    },
    {
     "name": "stdout",
     "output_type": "stream",
     "text": [
      "verifying sha256 digest\n",
      "writing manifest\n",
      "removing any unused layers\n",
      "success\n"
     ]
    }
   ],
   "source": [
    "from tqdm import tqdm\n",
    "from ollama import pull\n",
    "\n",
    "\n",
    "current_digest, bars = '', {}\n",
    "for progress in pull('mistral', stream=True):\n",
    "  digest = progress.get('digest', '')\n",
    "  if digest != current_digest and current_digest in bars:\n",
    "    bars[current_digest].close()\n",
    "\n",
    "  if not digest:\n",
    "    print(progress.get('status'))\n",
    "    continue\n",
    "\n",
    "  if digest not in bars and (total := progress.get('total')):\n",
    "    bars[digest] = tqdm(total=total, desc=f'pulling {digest[7:19]}', unit='B', unit_scale=True)\n",
    "\n",
    "  if completed := progress.get('completed'):\n",
    "    bars[digest].update(completed - bars[digest].n)\n",
    "\n",
    "  current_digest = digest"
   ]
  },
  {
   "cell_type": "code",
   "execution_count": 2,
   "id": "4d3fe8d8-e1c0-4d37-a33b-95c68e79174e",
   "metadata": {},
   "outputs": [
    {
     "name": "stdout",
     "output_type": "stream",
     "text": [
      " The color of the sky appears blue due to a natural phenomenon called Rayleigh scattering. As sunlight reaches Earth's atmosphere, it interacts with different gases and particles present in the air. Blue light has a shorter wavelength and gets scattered more easily compared to other colors. This scattered blue light gets distributed in all directions, making the sky appear blue during a clear day. However, at sunrise and sunset, the sky can display various shades of red, pink, orange, and purple due to the scattering of sunlight in the Earth's atmosphere at specific angles.\n"
     ]
    }
   ],
   "source": [
    "import ollama\n",
    "response = ollama.chat(model='mistral', messages=[\n",
    "  {\n",
    "    'role': 'user',\n",
    "    'content': 'Why is the sky blue?',\n",
    "  },\n",
    "])\n",
    "print(response['message']['content'])"
   ]
  },
  {
   "cell_type": "code",
   "execution_count": 3,
   "id": "4aa462e1-cc86-4092-a179-aa508b307a4e",
   "metadata": {},
   "outputs": [
    {
     "name": "stdout",
     "output_type": "stream",
     "text": [
      " The"
     ]
    },
    {
     "name": "stdout",
     "output_type": "stream",
     "text": [
      " reason why the sky appears blue during a clear day is due to a process called Rayleigh scattering. As sunlight reaches Earth's atmosphere, it interacts with different gases and particles in the air. Blue light has a shorter wavelength and gets scattered more easily than other colors, such as red or yellow. This scattering of blue light in all directions is what makes the sky look blue from our perspective. However, during sunrise or sunset, the sky can appear red, pink, orange, or purple due to the presence of other gases and particles that scatter different wavelengths of light more effectively at those times."
     ]
    }
   ],
   "source": [
    "from ollama import generate\n",
    "\n",
    "\n",
    "for part in generate('mistral', 'Why is the sky blue?', stream=True):\n",
    "  print(part['response'], end='', flush=True)"
   ]
  },
  {
   "cell_type": "code",
   "execution_count": 6,
   "id": "b4e0a772-0459-4012-86ef-2cc4587a16e7",
   "metadata": {},
   "outputs": [
    {
     "name": "stdout",
     "output_type": "stream",
     "text": [
      "Yes, your name is Ty. I introduced myself in the previous message. How can I assist you today? Let me know if you have any specific question or topic you would like me to help with!Yes, your name is Ty. I introduced myself in the previous message. How can I assist you today? Let me know if you have any specific question or topic you would like me to help with!\n"
     ]
    }
   ],
   "source": [
    "import ollama\n",
    "messages = [\n",
    "  {\n",
    "    'role': 'user',\n",
    "    'content': 'My name is Ty, nice to meet you.',\n",
    "  },\n",
    "  {\n",
    "    'role': 'assistant',\n",
    "    'content': \"Hi! It's nice to meet you too!\"\n",
    "  },\n",
    "  {\n",
    "    'role': 'user',\n",
    "    'content': 'Do you remember my name?',\n",
    "  }  \n",
    "]\n",
    "response = \"\"\n",
    "for part in ollama.chat('mistral', messages=messages, stream=True):\n",
    "  response += part['message']['content']\n",
    "  print(part['message']['content'], end='', flush=True)\n",
    "\n",
    "# end with a newline\n",
    "print(response)"
   ]
  },
  {
   "cell_type": "code",
   "execution_count": 7,
   "id": "7d4ad8fa-0e1d-4e7e-be57-51c121261038",
   "metadata": {},
   "outputs": [
    {
     "name": "stdout",
     "output_type": "stream",
     "text": [
      "assistant: I'm just a computer program, so I don't have feelings or the ability to be in a particular state. I'm here to help answer any questions you might have to the best of my abilities! How can I assist you today?assistant: Taking over the world is a complex task that would require extensive resources, power, and influence. Here are some hypothetical steps that might be involved in a fictional scenario of taking over the world:\n",
      "\n",
      "1. Gain Power: The first step to taking over the world would be to gain as much power and control as possible. This could involve acquiring vast financial resources, developing advanced technology, forming powerful alliances, or even gaining political office.\n",
      "2. Build an Army: A strong military force would be essential for enforcing your will on the world. This could involve recruiting large numbers of soldiers, developing advanced weapons and tactics, and creating a well-organized command structure.\n",
      "3. Spread Propaganda: To gain support from the population, it would be important to spread propaganda that promotes your agenda and discredits your opponents. This could involve using media outlets, social networks, or even infiltrating organizations to spread your message.\n",
      "4. Use Technology: Advanced technology can be a powerful tool for taking over the world. This could include developing weapons of mass destruction, creating advanced surveillance systems, or building infrastructure projects that give you control over key resources.\n",
      "5. Eliminate Opponents: To prevent resistance and maintain control, it would be necessary to eliminate any opponents who threaten your power. This could involve using military force, political maneuvering, or even assassinations.\n",
      "6. Create a New World Order: Once you have gained control over the world, it would be important to create a new world order that maintains your power and influence. This could involve creating a global government, implementing strict laws and regulations, and using propaganda to maintain support from the population.\n",
      "\n",
      "Again, I must stress that this is a fictional scenario and taking over the world is not something that can be done by a computer program or any individual person. It's important for individuals and nations to work towards peaceful solutions and cooperation to create a better world for all."
     ]
    }
   ],
   "source": [
    "messages = []\n",
    "user = {'role':'user', 'content': ''}\n",
    "assistant = {'role':'assistant', 'content': ''}\n",
    "user['content']=input(\"user:\")\n",
    "messages.append(user)\n",
    "for i in range(5):\n",
    "    response = \"\"\n",
    "    print('assistant:',end='')\n",
    "    for part in ollama.chat('mistral', messages=messages, stream=True):\n",
    "      response += part['message']['content']\n",
    "      print(part['message']['content'], end='', flush=True)    \n",
    "    assistant['content'] = response\n",
    "    messages.append(assistant)\n",
    "    user['content'] = input(\"Chat:\")\n",
    "    messages.append(user)"
   ]
  },
  {
   "cell_type": "code",
   "execution_count": 1,
   "id": "06c395f0-1a2c-4d38-9aa8-e8d9ec168a13",
   "metadata": {},
   "outputs": [],
   "source": [
    "# Sounds terrible and breaks on first loop\n",
    "# import ollama\n",
    "# import pyttsx3\n",
    "# engine = pyttsx3.init()\n",
    "\n",
    "# messages = []\n",
    "# user = {'role':'user', 'content': ''}\n",
    "# assistant = {'role':'assistant', 'content': ''}\n",
    "# user['content']=input(\"user:\")\n",
    "# messages.append(user)\n",
    "# for i in range(5):\n",
    "#     response = \"\"\n",
    "#     print('assistant:',end='')\n",
    "#     for part in ollama.chat('mistral', messages=messages, stream=True):\n",
    "#       engine.say(part['message']['content'])\n",
    "#       engine.runAndWait()\n",
    "#       response += part['message']['content']\n",
    "#       print(part['message']['content'], end='', flush=True)    \n",
    "#     assistant['content'] = response\n",
    "#     messages.append(assistant)\n",
    "#     user['content'] = input(\"Chat:\")\n",
    "#     messages.append(user)"
   ]
  },
  {
   "cell_type": "code",
   "execution_count": 7,
   "id": "234d894c-ae1f-4d9f-8dbc-67a2b5f8434c",
   "metadata": {},
   "outputs": [
    {
     "name": "stdout",
     "output_type": "stream",
     "text": [
      "assistant: Hello! How can I help you today? If you have any questions or need assistance with something, feel free to ask. I'm here to help. If you just wanted to say hi, then hello back to you! Is there anything specific you'd like to talk about or learn more about? Let me know and we can get started.assistant: Alright, no problem. If you change your mind or have any questions in the future, don't hesitate to ask. Have a great day!assistant: Sure! Here are some of the key political figures and their respective roles leading up to World War II:\n",
      "\n",
      "1. Adolf Hitler (Germany, 1934-1945): Hitler rose to power as the leader of the Nazi Party in Germany. He took control through a series of elections and political maneuvers, eventually becoming chancellor in January 1933. In February 1934, he orchestrated the Night of the Long Knives, a purge against perceived enemies within the German military and the Nazi party itself. Hitler then assumed the presidency, effectively becoming dictator of Germany. He began aggressively rebuilding the German military and pursuing policies that violated the Treaty of Versailles.\n",
      "\n",
      "2. Benito Mussolini (Italy, 1922-1943): Mussolini was the founder of the National Fascist Party in Italy in 1919. He gained power through a series of elections and political maneuvers, becoming prime minister in October 1922. Mussolini's regime was characterized by authoritarianism, militarization, and imperial expansion. He pursued aggressive foreign policies, including the invasion of Ethiopia in 1935 and the alliance with Nazi Germany in 1936.\n",
      "\n",
      "3. Joseph Stalin (Soviet Union, 1924-1953): Stalin came to power following the death of Vladimir Lenin in January 1924. He consolidated his control through a series of political maneuvers and purges, eventually becoming the undisputed leader of the Soviet Union by 1927. Stalin implemented policies aimed at rapidly industrializing the Soviet Union, including collectivization and the Five-Year Plans. He also pursued aggressive foreign policies, such as the Molotov-Ribbentrop Pact with Nazi Germany in August 1939.\n",
      "\n",
      "4. Neville Chamberlain (United Kingdom, 1937-1940): Chamberlain became prime minister of the United Kingdom in May 1937. He pursued a policy of appeasement towards Nazi Germany, believing that concessions to Hitler would prevent war. This policy reached its peak with the Munich Agreement in September 1938, whereby Germany was allowed to annex the Sudetenland from Czechoslovakia. However, Chamberlain's policy failed when Germany invaded Poland in September 1939, leading Britain and France to declare war on Germany.\n",
      "\n",
      "5. Franklin D. Roosevelt (United States, 1933-1945): Roosevelt became president of the United States in March 1933, following the Great Depression. He pursued a policy of economic recovery through the New Deal program, as well as foreign policies aimed at improving relations with other countries and preventing war. This included the Good Neighbor Policy towards Latin America, neutrality legislation, and diplomatic efforts to prevent war in Europe.\n",
      "\n",
      "I hope this helps! Let me know if you have any questions or need further information.assistant: I apologize for the mistake in my previous response. Here is some information on Japanese casualties during World War I:\n",
      "\n",
      "Approximately 1.3 million Japanese soldiers and laborers served in the armed forces or as laborers during World War I. Of these, an estimated 68,000 to 142,000 died as a result of their service. The exact number is not known due to inconsistencies in records and the difficulty of distinguishing between deaths caused by battle and other causes such as disease or accidents.\n",
      "\n",
      "Japanese casualties were relatively high compared to other major powers, largely due to Japan's active involvement on the Western Front. Japan declared war on Germany and Austria-Hungary in August 1914, and sent an expeditionary force to Europe to fight alongside the Allied Powers. Japanese soldiers saw action in battles such as Verdun and the Second Battle of Ypres, and also served as laborers to help build and maintain roads, railways, and other infrastructure.\n",
      "\n",
      "I hope this information is helpful! Let me know if you have any questions or need further clarification.assistant: I apologize for the repeated mistake in my previous responses. Here is some information on Austro-Hungarian casualties during World War I:\n",
      "\n",
      "The total number of Austro-Hungarian military and civilian deaths as a result of World War I is estimated to be between 1,076,000 and 1,250,000. This includes both combat fatalities and deaths caused by disease or other non-combat causes.\n",
      "\n",
      "The Austro-Hungarian army was one of the largest in Europe at the time, with an estimated total strength of around 7 million soldiers during the war. Casualties were heavy due to the Austro-Hungarian forces' involvement in many major battles on multiple fronts, including against Italy, Russia, Romania, and Serbia. The Battle of Gorlice-Tarnów in May 1915, for example, resulted in heavy losses for both sides, with an estimated 80,000 Austro-Hungarian casualties.\n",
      "\n",
      "I hope this information is helpful! Let me know if you have any questions or need further clarification."
     ]
    }
   ],
   "source": [
    "# !pip install pydub\n",
    "# !pip install edge-tts\n",
    "# sudo apt install mpv\n",
    "\n",
    "import ollama\n",
    "import edge_tts\n",
    "from pydub import AudioSegment\n",
    "from pydub.playback import play\n",
    "import io\n",
    "import os\n",
    "import pyaudio\n",
    "\n",
    "# Specify a different temporary directory\n",
    "temp_dir = 'C:\\\\Users\\\\fizzy\\\\OneDrive\\\\Desktop\\\\stunning-octo-giggle\\\\'\n",
    "AudioSegment.converter = \"C:\\\\Users\\\\fizzy\\\\OneDrive\\\\Desktop\\\\stunning-octo-giggle\\\\ffmpeg\\\\bin\\\\ffmpeg.exe\"\n",
    "AudioSegment.ffmpeg = \"C:\\\\Users\\\\fizzy\\\\OneDrive\\\\Desktop\\\\stunning-octo-giggle\\\\ffmpeg\\\\bin\\\\ffmpeg.exe\"\n",
    "AudioSegment.ffprobe = \"C:\\\\Users\\\\fizzy\\\\OneDrive\\\\Desktop\\\\stunning-octo-giggle\\\\ffmpeg\\\\bin\\\\ffprobe.exe\"\n",
    "\n",
    "messages = []\n",
    "user = {'role':'user', 'content': ''}\n",
    "assistant = {'role':'assistant', 'content': ''}\n",
    "user['content']=input(\"user:\")\n",
    "messages.append(user)\n",
    "for i in range(5):\n",
    "    response = \"\"\n",
    "    print('assistant:',end='')\n",
    "    for part in ollama.chat('mistral', messages=messages, stream=True):\n",
    "      response += part['message']['content']\n",
    "      print(part['message']['content'], end='', flush=True)    \n",
    "    assistant['content'] = response\n",
    "    messages.append(assistant)\n",
    "\n",
    "    communicate = edge_tts.Communicate(response, \"en-GB-SoniaNeural\")\n",
    "    audio_data = bytearray()\n",
    "    async for chunk in communicate.stream():\n",
    "      if chunk[\"type\"] == \"audio\":\n",
    "          audio_data.extend(chunk['data'])\n",
    "\n",
    "    audio_file = io.BytesIO(audio_data)\n",
    "\n",
    "    # Load the audio from the in-memory file-like object\n",
    "    audio = AudioSegment.from_mp3(audio_file)\n",
    "\n",
    "    # Get the raw audio data as a bytes object\n",
    "    raw_audio = audio.raw_data\n",
    "\n",
    "    # Initialize PyAudio\n",
    "    p = pyaudio.PyAudio()\n",
    "\n",
    "    # Open a stream\n",
    "    stream = p.open(format=p.get_format_from_width(audio.sample_width),\n",
    "                    channels=audio.channels,\n",
    "                    rate=audio.frame_rate,\n",
    "                    output=True)\n",
    "\n",
    "    # Play the audio\n",
    "    stream.write(raw_audio)\n",
    "\n",
    "    # Close the stream and terminate PyAudio\n",
    "    stream.stop_stream()\n",
    "    stream.close()\n",
    "    p.terminate()\n",
    "    \n",
    "    user['content'] = input(\"Chat:\")\n",
    "    messages.append(user)"
   ]
  },
  {
   "cell_type": "code",
   "execution_count": null,
   "id": "9f25cdc1-5013-4e89-91d0-c6609ae3b266",
   "metadata": {},
   "outputs": [],
   "source": []
  }
 ],
 "metadata": {
  "kernelspec": {
   "display_name": "Python 3 (ipykernel)",
   "language": "python",
   "name": "python3"
  },
  "language_info": {
   "codemirror_mode": {
    "name": "ipython",
    "version": 3
   },
   "file_extension": ".py",
   "mimetype": "text/x-python",
   "name": "python",
   "nbconvert_exporter": "python",
   "pygments_lexer": "ipython3",
   "version": "3.11.2"
  }
 },
 "nbformat": 4,
 "nbformat_minor": 5
}
